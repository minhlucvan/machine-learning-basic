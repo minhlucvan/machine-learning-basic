{
 "cells": [
  {
   "cell_type": "code",
   "execution_count": 1,
   "metadata": {},
   "outputs": [],
   "source": [
    "import numpy as np\n",
    "import os\n",
    "import matplotlib.pyplot as plt"
   ]
  },
  {
   "cell_type": "code",
   "execution_count": 2,
   "metadata": {},
   "outputs": [],
   "source": [
    "# curdir=os.path.dirname(__file__)\n",
    "deta_file = 'data.csv'\n"
   ]
  },
  {
   "cell_type": "code",
   "execution_count": 3,
   "metadata": {},
   "outputs": [],
   "source": [
    "def draw_graph(x, y, x_label, y_label, title):\n",
    "    #Plot dataset\n",
    "    plt.scatter(x, y)\n",
    "    \n",
    "    plt.xlabel(x_label)\n",
    "    plt.ylabel(y_label)\n",
    "    plt.title(title)\n",
    "    plt.show()"
   ]
  },
  {
   "cell_type": "markdown",
   "metadata": {},
   "source": [
    "### The Dataset\n",
    "   \n",
    "   There are 67 rows of data.  The data columns include:\n",
    "\n",
    "     I,  the index;\n",
    "     A1, the rent per acre of arable land,\n",
    "     A2, the number of milk cows per square mile,\n",
    "     A3, the difference between pasturage and arable land,\n",
    "     B,  the rental price per acre for this variety of grass.\n",
    "\n",
    "   We seek a model of the form:\n",
    "\n",
    "     B = A1 * X1 + A2 * X2 + A3 * X3."
   ]
  },
  {
   "cell_type": "code",
   "execution_count": 4,
   "metadata": {},
   "outputs": [],
   "source": [
    "def main():\n",
    "    data = np.genfromtxt(deta_file, delimiter=',')[:, [1, 4]]\n",
    "    \n",
    "    y = data[:, 3]\n",
    "    \n",
    "    x1 = data[:, 0]\n",
    "    x2 = data[:, 1]\n",
    "    x3 = data[:, 2]\n",
    "\n",
    "    X = np.matrix([x1, x2, x3]).T.A\n",
    "    Y = np.matrix(y).T\n",
    "\n",
    "    draw_graph(x1, y, 'A1', 'B', 'the rent per acre of arable land')\n",
    "    draw_graph(x2, y, 'A2', 'B', 'the number of milk cows per square mile')\n",
    "    draw_graph(x3, y, 'A3', 'B', 'the difference between pasturage and arable land')\n",
    "    \n",
    "    return 0\n"
   ]
  },
  {
   "cell_type": "code",
   "execution_count": 5,
   "metadata": {},
   "outputs": [
    {
     "ename": "SyntaxError",
     "evalue": "invalid syntax (<ipython-input-5-9ec43587e1d4>, line 3)",
     "output_type": "error",
     "traceback": [
      "\u001b[0;36m  File \u001b[0;32m\"<ipython-input-5-9ec43587e1d4>\"\u001b[0;36m, line \u001b[0;32m3\u001b[0m\n\u001b[0;31m    for i in range()\u001b[0m\n\u001b[0m                    ^\u001b[0m\n\u001b[0;31mSyntaxError\u001b[0m\u001b[0;31m:\u001b[0m invalid syntax\n"
     ]
    }
   ],
   "source": [
    "def compute_cost(W, D, learning_rate):\n",
    "    cost = 0\n",
    "    for i in range()\n",
    "    return cost\n"
   ]
  },
  {
   "cell_type": "code",
   "execution_count": null,
   "metadata": {},
   "outputs": [],
   "source": [
    "if __name__ == '__main__':\n",
    "    main()\n"
   ]
  },
  {
   "cell_type": "code",
   "execution_count": null,
   "metadata": {},
   "outputs": [],
   "source": []
  }
 ],
 "metadata": {
  "kernelspec": {
   "display_name": "Python 3",
   "language": "python",
   "name": "python3"
  },
  "language_info": {
   "codemirror_mode": {
    "name": "ipython",
    "version": 3
   },
   "file_extension": ".py",
   "mimetype": "text/x-python",
   "name": "python",
   "nbconvert_exporter": "python",
   "pygments_lexer": "ipython3",
   "version": "3.5.2"
  }
 },
 "nbformat": 4,
 "nbformat_minor": 1
}
